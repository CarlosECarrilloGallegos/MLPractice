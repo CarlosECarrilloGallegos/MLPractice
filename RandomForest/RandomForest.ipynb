{
 "cells": [
  {
   "cell_type": "markdown",
   "metadata": {},
   "source": [
    "## Random Forest on Census Data"
   ]
  },
  {
   "cell_type": "markdown",
   "metadata": {},
   "source": [
    "This code works on classifying a common UCI ML data set, Adults, which attempts to predict whether a person will make over 50k/year based on various characteristics (Age, race, sex, occupation, etc...)\n",
    "\n",
    "It's a 1994 data set, so conclusions might not be super interesting to today's world, but it's good practice in implementing a random forest."
   ]
  },
  {
   "cell_type": "markdown",
   "metadata": {},
   "source": [
    "### Import data"
   ]
  },
  {
   "cell_type": "code",
   "execution_count": 37,
   "metadata": {},
   "outputs": [],
   "source": [
    "import pandas as pd\n",
    "import numpy as np"
   ]
  },
  {
   "cell_type": "code",
   "execution_count": 38,
   "metadata": {},
   "outputs": [
    {
     "data": {
      "text/html": [
       "<div>\n",
       "<style scoped>\n",
       "    .dataframe tbody tr th:only-of-type {\n",
       "        vertical-align: middle;\n",
       "    }\n",
       "\n",
       "    .dataframe tbody tr th {\n",
       "        vertical-align: top;\n",
       "    }\n",
       "\n",
       "    .dataframe thead th {\n",
       "        text-align: right;\n",
       "    }\n",
       "</style>\n",
       "<table border=\"1\" class=\"dataframe\">\n",
       "  <thead>\n",
       "    <tr style=\"text-align: right;\">\n",
       "      <th></th>\n",
       "      <th>Age</th>\n",
       "      <th>workclass</th>\n",
       "      <th>FinalWeight</th>\n",
       "      <th>Education</th>\n",
       "      <th>EdNum</th>\n",
       "      <th>MaritalStatus</th>\n",
       "      <th>Occupation</th>\n",
       "      <th>Relationship</th>\n",
       "      <th>Race</th>\n",
       "      <th>Sex</th>\n",
       "      <th>CapitalGain</th>\n",
       "      <th>CapitalLoss</th>\n",
       "      <th>HoursPerWeek</th>\n",
       "      <th>NativeCountry</th>\n",
       "      <th>Salary</th>\n",
       "    </tr>\n",
       "  </thead>\n",
       "  <tbody>\n",
       "    <tr>\n",
       "      <th>0</th>\n",
       "      <td>39</td>\n",
       "      <td>State-gov</td>\n",
       "      <td>77516</td>\n",
       "      <td>Bachelors</td>\n",
       "      <td>13</td>\n",
       "      <td>Never-married</td>\n",
       "      <td>Adm-clerical</td>\n",
       "      <td>Not-in-family</td>\n",
       "      <td>White</td>\n",
       "      <td>Male</td>\n",
       "      <td>2174</td>\n",
       "      <td>0</td>\n",
       "      <td>40</td>\n",
       "      <td>United-States</td>\n",
       "      <td>&lt;=50K</td>\n",
       "    </tr>\n",
       "    <tr>\n",
       "      <th>1</th>\n",
       "      <td>50</td>\n",
       "      <td>Self-emp-not-inc</td>\n",
       "      <td>83311</td>\n",
       "      <td>Bachelors</td>\n",
       "      <td>13</td>\n",
       "      <td>Married-civ-spouse</td>\n",
       "      <td>Exec-managerial</td>\n",
       "      <td>Husband</td>\n",
       "      <td>White</td>\n",
       "      <td>Male</td>\n",
       "      <td>0</td>\n",
       "      <td>0</td>\n",
       "      <td>13</td>\n",
       "      <td>United-States</td>\n",
       "      <td>&lt;=50K</td>\n",
       "    </tr>\n",
       "    <tr>\n",
       "      <th>2</th>\n",
       "      <td>38</td>\n",
       "      <td>Private</td>\n",
       "      <td>215646</td>\n",
       "      <td>HS-grad</td>\n",
       "      <td>9</td>\n",
       "      <td>Divorced</td>\n",
       "      <td>Handlers-cleaners</td>\n",
       "      <td>Not-in-family</td>\n",
       "      <td>White</td>\n",
       "      <td>Male</td>\n",
       "      <td>0</td>\n",
       "      <td>0</td>\n",
       "      <td>40</td>\n",
       "      <td>United-States</td>\n",
       "      <td>&lt;=50K</td>\n",
       "    </tr>\n",
       "    <tr>\n",
       "      <th>3</th>\n",
       "      <td>53</td>\n",
       "      <td>Private</td>\n",
       "      <td>234721</td>\n",
       "      <td>11th</td>\n",
       "      <td>7</td>\n",
       "      <td>Married-civ-spouse</td>\n",
       "      <td>Handlers-cleaners</td>\n",
       "      <td>Husband</td>\n",
       "      <td>Black</td>\n",
       "      <td>Male</td>\n",
       "      <td>0</td>\n",
       "      <td>0</td>\n",
       "      <td>40</td>\n",
       "      <td>United-States</td>\n",
       "      <td>&lt;=50K</td>\n",
       "    </tr>\n",
       "    <tr>\n",
       "      <th>4</th>\n",
       "      <td>28</td>\n",
       "      <td>Private</td>\n",
       "      <td>338409</td>\n",
       "      <td>Bachelors</td>\n",
       "      <td>13</td>\n",
       "      <td>Married-civ-spouse</td>\n",
       "      <td>Prof-specialty</td>\n",
       "      <td>Wife</td>\n",
       "      <td>Black</td>\n",
       "      <td>Female</td>\n",
       "      <td>0</td>\n",
       "      <td>0</td>\n",
       "      <td>40</td>\n",
       "      <td>Cuba</td>\n",
       "      <td>&lt;=50K</td>\n",
       "    </tr>\n",
       "    <tr>\n",
       "      <th>...</th>\n",
       "      <td>...</td>\n",
       "      <td>...</td>\n",
       "      <td>...</td>\n",
       "      <td>...</td>\n",
       "      <td>...</td>\n",
       "      <td>...</td>\n",
       "      <td>...</td>\n",
       "      <td>...</td>\n",
       "      <td>...</td>\n",
       "      <td>...</td>\n",
       "      <td>...</td>\n",
       "      <td>...</td>\n",
       "      <td>...</td>\n",
       "      <td>...</td>\n",
       "      <td>...</td>\n",
       "    </tr>\n",
       "    <tr>\n",
       "      <th>32556</th>\n",
       "      <td>27</td>\n",
       "      <td>Private</td>\n",
       "      <td>257302</td>\n",
       "      <td>Assoc-acdm</td>\n",
       "      <td>12</td>\n",
       "      <td>Married-civ-spouse</td>\n",
       "      <td>Tech-support</td>\n",
       "      <td>Wife</td>\n",
       "      <td>White</td>\n",
       "      <td>Female</td>\n",
       "      <td>0</td>\n",
       "      <td>0</td>\n",
       "      <td>38</td>\n",
       "      <td>United-States</td>\n",
       "      <td>&lt;=50K</td>\n",
       "    </tr>\n",
       "    <tr>\n",
       "      <th>32557</th>\n",
       "      <td>40</td>\n",
       "      <td>Private</td>\n",
       "      <td>154374</td>\n",
       "      <td>HS-grad</td>\n",
       "      <td>9</td>\n",
       "      <td>Married-civ-spouse</td>\n",
       "      <td>Machine-op-inspct</td>\n",
       "      <td>Husband</td>\n",
       "      <td>White</td>\n",
       "      <td>Male</td>\n",
       "      <td>0</td>\n",
       "      <td>0</td>\n",
       "      <td>40</td>\n",
       "      <td>United-States</td>\n",
       "      <td>&gt;50K</td>\n",
       "    </tr>\n",
       "    <tr>\n",
       "      <th>32558</th>\n",
       "      <td>58</td>\n",
       "      <td>Private</td>\n",
       "      <td>151910</td>\n",
       "      <td>HS-grad</td>\n",
       "      <td>9</td>\n",
       "      <td>Widowed</td>\n",
       "      <td>Adm-clerical</td>\n",
       "      <td>Unmarried</td>\n",
       "      <td>White</td>\n",
       "      <td>Female</td>\n",
       "      <td>0</td>\n",
       "      <td>0</td>\n",
       "      <td>40</td>\n",
       "      <td>United-States</td>\n",
       "      <td>&lt;=50K</td>\n",
       "    </tr>\n",
       "    <tr>\n",
       "      <th>32559</th>\n",
       "      <td>22</td>\n",
       "      <td>Private</td>\n",
       "      <td>201490</td>\n",
       "      <td>HS-grad</td>\n",
       "      <td>9</td>\n",
       "      <td>Never-married</td>\n",
       "      <td>Adm-clerical</td>\n",
       "      <td>Own-child</td>\n",
       "      <td>White</td>\n",
       "      <td>Male</td>\n",
       "      <td>0</td>\n",
       "      <td>0</td>\n",
       "      <td>20</td>\n",
       "      <td>United-States</td>\n",
       "      <td>&lt;=50K</td>\n",
       "    </tr>\n",
       "    <tr>\n",
       "      <th>32560</th>\n",
       "      <td>52</td>\n",
       "      <td>Self-emp-inc</td>\n",
       "      <td>287927</td>\n",
       "      <td>HS-grad</td>\n",
       "      <td>9</td>\n",
       "      <td>Married-civ-spouse</td>\n",
       "      <td>Exec-managerial</td>\n",
       "      <td>Wife</td>\n",
       "      <td>White</td>\n",
       "      <td>Female</td>\n",
       "      <td>15024</td>\n",
       "      <td>0</td>\n",
       "      <td>40</td>\n",
       "      <td>United-States</td>\n",
       "      <td>&gt;50K</td>\n",
       "    </tr>\n",
       "  </tbody>\n",
       "</table>\n",
       "<p>32561 rows × 15 columns</p>\n",
       "</div>"
      ],
      "text/plain": [
       "       Age          workclass  FinalWeight    Education  EdNum  \\\n",
       "0       39          State-gov        77516    Bachelors     13   \n",
       "1       50   Self-emp-not-inc        83311    Bachelors     13   \n",
       "2       38            Private       215646      HS-grad      9   \n",
       "3       53            Private       234721         11th      7   \n",
       "4       28            Private       338409    Bachelors     13   \n",
       "...    ...                ...          ...          ...    ...   \n",
       "32556   27            Private       257302   Assoc-acdm     12   \n",
       "32557   40            Private       154374      HS-grad      9   \n",
       "32558   58            Private       151910      HS-grad      9   \n",
       "32559   22            Private       201490      HS-grad      9   \n",
       "32560   52       Self-emp-inc       287927      HS-grad      9   \n",
       "\n",
       "             MaritalStatus          Occupation    Relationship    Race  \\\n",
       "0            Never-married        Adm-clerical   Not-in-family   White   \n",
       "1       Married-civ-spouse     Exec-managerial         Husband   White   \n",
       "2                 Divorced   Handlers-cleaners   Not-in-family   White   \n",
       "3       Married-civ-spouse   Handlers-cleaners         Husband   Black   \n",
       "4       Married-civ-spouse      Prof-specialty            Wife   Black   \n",
       "...                    ...                 ...             ...     ...   \n",
       "32556   Married-civ-spouse        Tech-support            Wife   White   \n",
       "32557   Married-civ-spouse   Machine-op-inspct         Husband   White   \n",
       "32558              Widowed        Adm-clerical       Unmarried   White   \n",
       "32559        Never-married        Adm-clerical       Own-child   White   \n",
       "32560   Married-civ-spouse     Exec-managerial            Wife   White   \n",
       "\n",
       "           Sex  CapitalGain  CapitalLoss  HoursPerWeek   NativeCountry Salary  \n",
       "0         Male         2174            0            40   United-States  <=50K  \n",
       "1         Male            0            0            13   United-States  <=50K  \n",
       "2         Male            0            0            40   United-States  <=50K  \n",
       "3         Male            0            0            40   United-States  <=50K  \n",
       "4       Female            0            0            40            Cuba  <=50K  \n",
       "...        ...          ...          ...           ...             ...    ...  \n",
       "32556   Female            0            0            38   United-States  <=50K  \n",
       "32557     Male            0            0            40   United-States   >50K  \n",
       "32558   Female            0            0            40   United-States  <=50K  \n",
       "32559     Male            0            0            20   United-States  <=50K  \n",
       "32560   Female        15024            0            40   United-States   >50K  \n",
       "\n",
       "[32561 rows x 15 columns]"
      ]
     },
     "execution_count": 38,
     "metadata": {},
     "output_type": "execute_result"
    }
   ],
   "source": [
    "adults = pd.read_csv('adult.csv')\n",
    "adults"
   ]
  },
  {
   "cell_type": "markdown",
   "metadata": {},
   "source": [
    "### Build a Decision Tree from the data"
   ]
  },
  {
   "cell_type": "markdown",
   "metadata": {},
   "source": [
    "To build a decision tree, we need to decide which variable to put at the top, and how to split it below, on and on and on. \n",
    "\n",
    "We will use the Gini Impurtiy to find which factors are the best to incorporate!"
   ]
  },
  {
   "cell_type": "markdown",
   "metadata": {},
   "source": [
    "For each column of interest, we will find the Gini impurity. For columns with numeric data or more than 2 options (most columns), we find the gini impurity for each individual value, then pick the lowest gini impurity from that batch to define the gini impurity of the column as a whole.\n",
    "\n",
    "Let's find the gini impurity of two columns, one categorial and one numerical, to get an idea for the process. Then we'll write up functions to apply that process to other columns."
   ]
  },
  {
   "cell_type": "markdown",
   "metadata": {},
   "source": [
    "#### Age--Gini Impurity"
   ]
  },
  {
   "cell_type": "markdown",
   "metadata": {},
   "source": [
    "The first step in finding the Gini Impurity for this column is ordering the data numerically and finding the mean value in between each value in the column."
   ]
  },
  {
   "cell_type": "code",
   "execution_count": 39,
   "metadata": {},
   "outputs": [
    {
     "name": "stdout",
     "output_type": "stream",
     "text": [
      "[17 18 19 20 21 22 23 24 25 26 27 28 29 30 31 32 33 34 35 36 37 38 39 40\n",
      " 41 42 43 44 45 46 47 48 49 50 51 52 53 54 55 56 57 58 59 60 61 62 63 64\n",
      " 65 66 67 68 69 70 71 72 73 74 75 76 77 78 79 80 81 82 83 84 85 86 87 88\n",
      " 90]\n"
     ]
    }
   ],
   "source": [
    "#First, we create a numpy array from the dataset and sort it numerically. We also eliminate repeat values (of which there are many, of course)\n",
    "age = np.unique(np.sort(np.array(adults['Age'])))\n",
    "\n",
    "#We also print the array to make sure it makes sense.\n",
    "print(age)"
   ]
  },
  {
   "cell_type": "markdown",
   "metadata": {},
   "source": [
    "We now need to find the average in between each age value. Just looking at this, it's clear it's just the 0.5 increments between the values, but we won't hard code it so it can apply to other variables as well. There might be a numpy package that can do this, but I think it's useful to write it out"
   ]
  },
  {
   "cell_type": "code",
   "execution_count": 40,
   "metadata": {},
   "outputs": [
    {
     "name": "stdout",
     "output_type": "stream",
     "text": [
      "[17.5 18.5 19.5 20.5 21.5 22.5 23.5 24.5 25.5 26.5 27.5 28.5 29.5 30.5\n",
      " 31.5 32.5 33.5 34.5 35.5 36.5 37.5 38.5 39.5 40.5 41.5 42.5 43.5 44.5\n",
      " 45.5 46.5 47.5 48.5 49.5 50.5 51.5 52.5 53.5 54.5 55.5 56.5 57.5 58.5\n",
      " 59.5 60.5 61.5 62.5 63.5 64.5 65.5 66.5 67.5 68.5 69.5 70.5 71.5 72.5\n",
      " 73.5 74.5 75.5 76.5 77.5 78.5 79.5 80.5 81.5 82.5 83.5 84.5 85.5 86.5\n",
      " 87.5 89. ]\n"
     ]
    }
   ],
   "source": [
    "age_avg_btwn = np.zeros(len(age) - 1)\n",
    "for i in range(len(age) - 1):\n",
    "    age_avg_btwn[i] = (age[i] + age[i+1])/2\n",
    "print(age_avg_btwn)"
   ]
  },
  {
   "cell_type": "markdown",
   "metadata": {},
   "source": [
    "Perfect!\n",
    "\n",
    "Now we need to calculate the gini impurity for each of these values. Essentially, we will split the data into people younger than and older than each age in this array, and then see how many people in each category make less than 50k or more than 50k. We find the lowest gini inequality for each age, and the age with the lowest will be the representative for the age column.\n",
    "\n",
    "Gini Impurity = 1 - $(Pincome >50k)^2 - (P\n",
    "income <50k)^2$"
   ]
  },
  {
   "cell_type": "code",
   "execution_count": 41,
   "metadata": {},
   "outputs": [],
   "source": [
    "Gini_age = np.zeros(len(age_avg_btwn))\n",
    "age_salary = np.array(adults[['Age', 'Salary']])\n",
    "datapoints = len(age_salary)\n",
    "\n",
    "below_age_50plus = 0\n",
    "below_age_50minus = 0\n",
    "above_age_50plus = 0\n",
    "above_age_50minus = 0\n",
    "\n",
    "\n",
    "# Loop over each avg age\n",
    "for count, age_avg_btwn in enumerate(age_avg_btwn):\n",
    "\n",
    "    # Find the number of people in each category\n",
    "    for j in age_salary:\n",
    "        if j[0] < age_avg_btwn:\n",
    "            if j[1] == '>50K':\n",
    "                below_age_50plus += 1\n",
    "            else:\n",
    "                below_age_50minus += 1\n",
    "        if j[0] > age_avg_btwn:\n",
    "            if j[1] == '>50K':\n",
    "                above_age_50plus += 1\n",
    "            else:\n",
    "                above_age_50minus += 1\n",
    "\n",
    "    #Compute the gini impurity for each leaf\n",
    "\n",
    "    gini_below_age = 1 - (below_age_50plus/datapoints)**2 - (below_age_50minus/datapoints)**2\n",
    "    gini_above_age = 1 - (above_age_50plus/datapoints)**2 - (above_age_50minus/datapoints)**2\n",
    "\n",
    "    #Compute the total gini for this age by weighing the gini impurity \n",
    "\n",
    "    total_gini = ((below_age_50minus + below_age_50plus)/datapoints)*gini_below_age + ((above_age_50minus + above_age_50plus)/datapoints)*gini_above_age\n",
    "\n",
    "    Gini_age[count] = total_gini\n",
    "\n",
    "    below_age_50minus = 0\n",
    "    below_age_50plus = 0\n",
    "    above_age_50minus = 0\n",
    "    above_age_50plus = 0\n"
   ]
  },
  {
   "cell_type": "markdown",
   "metadata": {},
   "source": [
    "Now we have an array, Gini_age, with the gini impurity for each age in age_avg_btwn. We take the age with the lowest gini impurity as the ideal age, and store it in a tuple with its gini impurity, which will be compared with the gini impurities of other values in the future."
   ]
  },
  {
   "cell_type": "code",
   "execution_count": 42,
   "metadata": {},
   "outputs": [
    {
     "data": {
      "text/plain": [
       "(89.0, 0.3682252817958181)"
      ]
     },
     "execution_count": 42,
     "metadata": {},
     "output_type": "execute_result"
    }
   ],
   "source": [
    "#We redfine age_avg_btwn because it was changed in the enumerate function\n",
    "age_avg_btwn = np.zeros(len(age) - 1)\n",
    "for i in range(len(age) - 1):\n",
    "    age_avg_btwn[i] = (age[i] + age[i+1])/2\n",
    "\n",
    "# Now make the tuple\n",
    "index_of_min = np.argmin(Gini_age)\n",
    "Ideal_age_value = age_avg_btwn[index_of_min]\n",
    "Ideal_age_gini = (Ideal_age_value, min(Gini_age))\n",
    "\n",
    "Ideal_age_gini"
   ]
  },
  {
   "cell_type": "markdown",
   "metadata": {},
   "source": [
    "### Formalizing the process\n",
    "\n",
    "Now that we have gone through the process for one category, we want to formalize the process for multiple categories, so we can find the best starting question for our decision tree.\n",
    "\n",
    "#### For numerical categories"
   ]
  },
  {
   "cell_type": "code",
   "execution_count": 43,
   "metadata": {},
   "outputs": [],
   "source": [
    "def NumericalGiniImpurity(variable_array, variable_outcome_array, OutcomePlus, OutcomeNeg):\n",
    "    '''\n",
    "    This function takes in a variable array and a 2d variable outcome array and returns the gini impurity for that variable based on that outcome.\n",
    "\n",
    "    Parameters\n",
    "    -------------------\n",
    "    Variable array: 1D array\n",
    "        A 1-D array that represents the variable for each datapoint in the data set. For example, age, capital gain, etc.\n",
    "\n",
    "    variable_outcome_array: 2D array\n",
    "        A 2-D array with elements for each data point. Each element is a 1-D array of length 2, which holds the variable itself (ex: age) and the outcome (ex: salary)\n",
    "        that is trying to be predicted.\n",
    "\n",
    "    OutcomePlus/Neg: Any\n",
    "        Check for the outcomes we are expecting.\n",
    "\n",
    "    Returns\n",
    "    ----------------------\n",
    "    Ideal_variable_gini: Tuple\n",
    "        A tuple with two elements; the ideal variable to start a decision tree with, and its associated gini impurity.\n",
    "\n",
    "    '''\n",
    "\n",
    "    #Let's make our data into numpy arrays, for ease of computation\n",
    "    variable_array = np.array(variable_array)\n",
    "    variable_outcome_array = np.array(variable_outcome_array)\n",
    "\n",
    "\n",
    "    #First, we order the data numerically, excluding repeat values, and find the mean value between each value in the array\n",
    "\n",
    "    var_sorted = np.unique(np.sort(variable_array))\n",
    "\n",
    "    var_avg_btwn = np.zeros(len(var_sorted) - 1) #1 element shorter b/c taking avg values in between each value in the current array\n",
    "\n",
    "    for i in range(len(var_sorted) - 1):\n",
    "        var_avg_btwn[i] = (var_sorted[i] + var_sorted[i+1])/2\n",
    "    \n",
    "    # Now we have the values for which we will compute the gini impurity and find the ideal result\n",
    "\n",
    "    #Here, we initialize variables and arrays we will need\n",
    "\n",
    "    Gini_var = np.zeros(len(var_avg_btwn))\n",
    "    datapoints = len(variable_outcome_array)\n",
    "\n",
    "    LowVar_PlusOutcome = 0\n",
    "    LowVar_NegOutcome = 0\n",
    "    HighVar_PlusOutcome = 0\n",
    "    HighVar_NegOutcome = 0\n",
    "\n",
    "    # Loop over each avg age\n",
    "    for count, var_avg_btwn in enumerate(var_avg_btwn):\n",
    "\n",
    "        # Find the number of people in each category\n",
    "        for j in variable_outcome_array:\n",
    "            if j[0] < var_avg_btwn:\n",
    "                if j[1] == OutcomePlus:\n",
    "                    LowVar_PlusOutcome += 1\n",
    "                else:\n",
    "                    LowVar_NegOutcome += 1\n",
    "            if j[0] > var_avg_btwn:\n",
    "                if j[1] == OutcomePlus:\n",
    "                    HighVar_PlusOutcome += 1\n",
    "                else:\n",
    "                    HighVar_NegOutcome += 1\n",
    "\n",
    "        #Compute the gini impurity for each leaf\n",
    "\n",
    "        gini_low_var = 1 - (LowVar_PlusOutcome/datapoints)**2 - (LowVar_NegOutcome/datapoints)**2\n",
    "        gini_high_var = 1 - (HighVar_PlusOutcome/datapoints)**2 - (HighVar_NegOutcome/datapoints)**2\n",
    "\n",
    "        #Compute the total gini for this age by weighing the gini impurity \n",
    "\n",
    "        total_gini = ((LowVar_NegOutcome + LowVar_PlusOutcome)/datapoints)*gini_low_var +((HighVar_NegOutcome + HighVar_PlusOutcome)/datapoints)*gini_high_var\n",
    "\n",
    "        Gini_var[count] = total_gini\n",
    "\n",
    "        LowVar_PlusOutcome = 0\n",
    "        LowVar_NegOutcome = 0\n",
    "        HighVar_PlusOutcome = 0\n",
    "        HighVar_NegOutcome = 0\n",
    "\n",
    "    #Redefine var_avg_btwn b/c it was renamed during enumerate\n",
    "    var_avg_btwn = np.zeros(len(var_sorted) - 1) #1 element shorter b/c taking avg values in between each value in the current array\n",
    "    for i in range(len(var_sorted) - 1):\n",
    "        var_avg_btwn[i] = (var_sorted[i] + var_sorted[i+1])/2\n",
    "\n",
    "\n",
    "    # Now make the tuple\n",
    "    index_of_min = np.argmin(Gini_var)\n",
    "    Ideal_var_value = var_avg_btwn[index_of_min]\n",
    "    Ideal_var_gini = (Ideal_var_value, min(Gini_var))\n",
    "\n",
    "    return Ideal_var_gini\n",
    "    "
   ]
  },
  {
   "cell_type": "markdown",
   "metadata": {},
   "source": [
    "#### Test function on age data"
   ]
  },
  {
   "cell_type": "code",
   "execution_count": 44,
   "metadata": {},
   "outputs": [
    {
     "data": {
      "text/plain": [
       "(89.0, 0.3682252817958181)"
      ]
     },
     "execution_count": 44,
     "metadata": {},
     "output_type": "execute_result"
    }
   ],
   "source": [
    "OutcomePlus = '>50K'\n",
    "OutcomeNeg = '<=50K'\n",
    "\n",
    "NumericalGiniImpurity(adults['Age'], adults[['Age','Salary']], OutcomePlus, OutcomeNeg)"
   ]
  },
  {
   "cell_type": "markdown",
   "metadata": {},
   "source": [
    "It worked! Now we can compute the gini impurity for all of our numerical parameters"
   ]
  },
  {
   "cell_type": "code",
   "execution_count": 47,
   "metadata": {},
   "outputs": [],
   "source": [
    "NumericalGinis = [] #Number of numeric variables\n",
    "\n",
    "NumericalGinis.append(NumericalGiniImpurity(adults['Age'], adults[['Age', 'Salary']], OutcomePlus, OutcomeNeg))\n",
    "NumericalGinis.append(NumericalGiniImpurity(adults['EdNum'], adults[['EdNum', 'Salary']], OutcomePlus, OutcomeNeg))\n",
    "NumericalGinis.append(NumericalGiniImpurity(adults['HoursPerWeek'], adults[['HoursPerWeek', 'Salary']], OutcomePlus, OutcomeNeg))"
   ]
  },
  {
   "cell_type": "code",
   "execution_count": 48,
   "metadata": {},
   "outputs": [
    {
     "data": {
      "text/plain": [
       "[(89.0, 0.3682252817958181),\n",
       " (1.5, 0.3690062683214883),\n",
       " (1.5, 0.3668983860809549)]"
      ]
     },
     "execution_count": 48,
     "metadata": {},
     "output_type": "execute_result"
    }
   ],
   "source": [
    "NumericalGinis"
   ]
  },
  {
   "cell_type": "markdown",
   "metadata": {},
   "source": [
    "### For categorical data\n",
    "\n",
    "For categorical data, since we have more than one option per column, we will look at each option in each column and find the option with the lowest gini impurity. That option will be representative of the column as a whole!\n",
    "\n",
    "We can modify the above function slightly to fit the bill"
   ]
  },
  {
   "cell_type": "code",
   "execution_count": 1,
   "metadata": {},
   "outputs": [],
   "source": [
    "def CategoricalGiniImpurity(variable_array, variable_outcome_array, OutcomePlus, OutcomeNeg):\n",
    "    '''\n",
    "    This function takes in a variable array and a 2d variable outcome array and returns the gini impurity for that variable based on that outcome.\n",
    "\n",
    "    Parameters\n",
    "    -------------------\n",
    "    Variable array: 1D array\n",
    "        A 1-D array that represents the variable for each datapoint in the data set. For example, age, capital gain, etc.\n",
    "\n",
    "    variable_outcome_array: 2D array\n",
    "        A 2-D array with elements for each data point. Each element is a 1-D array of length 2, which holds the variable itself (ex: age) and the outcome (ex: salary)\n",
    "        that is trying to be predicted.\n",
    "\n",
    "    OutcomePlus/Neg: Any\n",
    "        Check for the outcomes we are expecting.\n",
    "\n",
    "    Returns\n",
    "    ----------------------\n",
    "    Ideal_variable_gini: Tuple\n",
    "        A tuple with two elements; the ideal variable to start a decision tree with, and its associated gini impurity.\n",
    "\n",
    "    '''\n",
    "\n",
    "    #Let's make our data into numpy arrays, for ease of computation\n",
    "    variable_array = np.array(variable_array)\n",
    "    variable_outcome_array = np.array(variable_outcome_array)\n",
    "\n",
    "\n",
    "    #First, we order the data numerically, excluding repeat values, and find the mean value between each value in the array\n",
    "\n",
    "    var_sorted = np.unique(variable_array)\n",
    "    \n",
    "    # Now we have the values for which we will compute the gini impurity and find the ideal result\n",
    "\n",
    "    #Here, we initialize variables and arrays we will need\n",
    "\n",
    "    Gini_var = np.zeros(len(var_sorted))\n",
    "    datapoints = len(variable_outcome_array)\n",
    "\n",
    "    LowVar_PlusOutcome = 0\n",
    "    LowVar_NegOutcome = 0\n",
    "    HighVar_PlusOutcome = 0\n",
    "    HighVar_NegOutcome = 0\n",
    "\n",
    "    # Loop over each avg age\n",
    "    for count, var_sorted in enumerate(var_sorted):\n",
    "\n",
    "        # Find the number of people in each category\n",
    "        for j in variable_outcome_array:\n",
    "            if j[0] == var_sorted:\n",
    "                if j[1] == OutcomePlus:\n",
    "                    LowVar_PlusOutcome += 1\n",
    "                else:\n",
    "                    LowVar_NegOutcome += 1\n",
    "            if j[0] != var_sorted:\n",
    "                if j[1] == OutcomePlus:\n",
    "                    HighVar_PlusOutcome += 1\n",
    "                else:\n",
    "                    HighVar_NegOutcome += 1\n",
    "\n",
    "        #Compute the gini impurity for each leaf\n",
    "\n",
    "        gini_low_var = 1 - (LowVar_PlusOutcome/datapoints)**2 - (LowVar_NegOutcome/datapoints)**2\n",
    "        gini_high_var = 1 - (HighVar_PlusOutcome/datapoints)**2 - (HighVar_NegOutcome/datapoints)**2\n",
    "\n",
    "        #Compute the total gini for this age by weighing the gini impurity \n",
    "\n",
    "        total_gini = ((LowVar_NegOutcome + LowVar_PlusOutcome)/datapoints)*gini_low_var +((HighVar_NegOutcome + HighVar_PlusOutcome)/datapoints)*gini_high_var\n",
    "\n",
    "        Gini_var[count] = total_gini\n",
    "\n",
    "        LowVar_PlusOutcome = 0\n",
    "        LowVar_NegOutcome = 0\n",
    "        HighVar_PlusOutcome = 0\n",
    "        HighVar_NegOutcome = 0\n",
    "\n",
    "    #Redefine var_sorted b/c it was renamed during enumerate\n",
    "    var_sorted = np.unique(variable_array)\n",
    "\n",
    "\n",
    "    # Now make the tuple\n",
    "    index_of_min = np.argmin(Gini_var)\n",
    "    Ideal_var_value = var_sorted[index_of_min]\n",
    "    Ideal_var_gini = (Ideal_var_value, min(Gini_var))\n",
    "\n",
    "    return Ideal_var_gini\n",
    "    "
   ]
  },
  {
   "cell_type": "markdown",
   "metadata": {},
   "source": [
    "Now we run the function on all the categorical variables!"
   ]
  },
  {
   "cell_type": "code",
   "execution_count": 61,
   "metadata": {},
   "outputs": [],
   "source": [
    "CategoricalGinis = []\n",
    "CategoricalGinis.append(CategoricalGiniImpurity(adults['workclass'], adults[['workclass','Salary']], OutcomePlus, OutcomeNeg))\n",
    "CategoricalGinis.append(CategoricalGiniImpurity(adults['Education'], adults[['Education','Salary']], OutcomePlus, OutcomeNeg))\n",
    "CategoricalGinis.append(CategoricalGiniImpurity(adults['MaritalStatus'], adults[['MaritalStatus','Salary']], OutcomePlus, OutcomeNeg))\n",
    "CategoricalGinis.append(CategoricalGiniImpurity(adults['Occupation'], adults[['Occupation','Salary']], OutcomePlus, OutcomeNeg))\n",
    "CategoricalGinis.append(CategoricalGiniImpurity(adults['Relationship'], adults[['Relationship','Salary']], OutcomePlus, OutcomeNeg))\n",
    "CategoricalGinis.append(CategoricalGiniImpurity(adults['Race'], adults[['Race','Salary']], OutcomePlus, OutcomeNeg))\n",
    "CategoricalGinis.append(CategoricalGiniImpurity(adults['Sex'], adults[['Sex','Salary']], OutcomePlus, OutcomeNeg))\n",
    "CategoricalGinis.append(CategoricalGiniImpurity(adults['NativeCountry'], adults[['NativeCountry','Salary']], OutcomePlus, OutcomeNeg))"
   ]
  },
  {
   "cell_type": "markdown",
   "metadata": {},
   "source": [
    "Now let's combine the gini lists and see which gini value is the lowest. That will be our starting question!"
   ]
  },
  {
   "cell_type": "code",
   "execution_count": 62,
   "metadata": {},
   "outputs": [
    {
     "data": {
      "text/plain": [
       "[(' Never-worked', 0.3661033110805593),\n",
       " (' Preschool', 0.3690062683214883),\n",
       " (' Married-AF-spouse', 0.36684206019387566),\n",
       " (' Armed-Forces', 0.3662036465033548),\n",
       " (' Other-relative', 0.42713587693831256),\n",
       " (' Other', 0.38260530621723887),\n",
       " (' Female', 0.7983926929107752),\n",
       " (' Holand-Netherlands', 0.36570674067270975),\n",
       " [(89.0, 0.3682252817958181),\n",
       "  (1.5, 0.3690062683214883),\n",
       "  (1.5, 0.3668983860809549)]]"
      ]
     },
     "execution_count": 62,
     "metadata": {},
     "output_type": "execute_result"
    }
   ],
   "source": [
    "CategoricalGinis.append(NumericalGinis)\n",
    "Ginis = CategoricalGinis\n",
    "Ginis"
   ]
  },
  {
   "cell_type": "markdown",
   "metadata": {},
   "source": [
    "From the cell above, we can see that \"workclass\" has the lowest gini impurity, with the best category being 'Never-worked.' That question will start our decision tree. But where do we go from there?"
   ]
  },
  {
   "cell_type": "markdown",
   "metadata": {},
   "source": [
    "## Building the complete decision tree"
   ]
  },
  {
   "cell_type": "markdown",
   "metadata": {},
   "source": []
  }
 ],
 "metadata": {
  "kernelspec": {
   "display_name": "Python 3.8.11",
   "language": "python",
   "name": "python3"
  },
  "language_info": {
   "codemirror_mode": {
    "name": "ipython",
    "version": 3
   },
   "file_extension": ".py",
   "mimetype": "text/x-python",
   "name": "python",
   "nbconvert_exporter": "python",
   "pygments_lexer": "ipython3",
   "version": "3.8.11"
  },
  "orig_nbformat": 4,
  "vscode": {
   "interpreter": {
    "hash": "7f99ec6569cac3c3f543f73842ab649f07f52f1013c334ebe4528142b178f753"
   }
  }
 },
 "nbformat": 4,
 "nbformat_minor": 2
}
